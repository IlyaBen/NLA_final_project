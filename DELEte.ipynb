{
 "cells": [
  {
   "cell_type": "code",
   "execution_count": null,
   "metadata": {},
   "outputs": [],
   "source": [
    "from matplotlib import pyplot as plt\n",
    "import numpy as np\n",
    "from numpy.linalg import svd, eig\n",
    "import scipy\n",
    "from scipy.sparse import csr_matrix\n",
    "from scipy.sparse.linalg import svds, eigs"
   ]
  },
  {
   "cell_type": "code",
   "execution_count": 1,
   "metadata": {},
   "outputs": [],
   "source": [
    "import re\n",
    "file = open(\"test.txt\", \"r\")\n",
    "\n",
    "doclist = [line for line in file]    \n",
    "docstr = ''.join(doclist)\n",
    "sentences = re.split(r'[.!?]', docstr)\n",
    "sentences = [sentence.split() for sentence in sentences if len(sentence) > 1]"
   ]
  },
  {
   "cell_type": "code",
   "execution_count": 2,
   "metadata": {},
   "outputs": [],
   "source": [
    "files = open('enwik9.txt','r').read().split('Splitting Text')\n",
    "names=['file1','file2','file3']\n",
    "for num,file in enumerate(files):\n",
    "    open(names[num],'w').write(file)"
   ]
  },
  {
   "cell_type": "code",
   "execution_count": 3,
   "metadata": {},
   "outputs": [],
   "source": [
    "def create_vocabulary(sentences, d=200): #пусть пока будет 200, чтобы сравнивать с дз\n",
    "    vocabulary = {}\n",
    "    wordfreq = {}\n",
    "    for sentence in sentences:\n",
    "        for word in sentence:\n",
    "            if word not in wordfreq:\n",
    "                wordfreq[word] = 0 \n",
    "            wordfreq[word] += 1\n",
    "    i = 0\n",
    "    for word in wordfreq:\n",
    "        if wordfreq[word] > d:\n",
    "            vocabulary[word] = i\n",
    "            i += 1\n",
    "    return vocabulary"
   ]
  },
  {
   "cell_type": "code",
   "execution_count": 4,
   "metadata": {},
   "outputs": [],
   "source": [
    "vocabulary = create_vocabulary(sentences)"
   ]
  },
  {
   "cell_type": "code",
   "execution_count": 5,
   "metadata": {},
   "outputs": [],
   "source": [
    "def create_corpus_matrix(sentences, vocabulary):\n",
    "    n = len(vocabulary)\n",
    "    corpus_matrix = np.zeros((n, n))\n",
    "    \n",
    "    for sentense in sentences:\n",
    "        for position_of_word in range(len(sentense)):\n",
    "            for i in range(max(0, position_of_word - 2), min(position_of_word + 3, len(sentense))):\n",
    "                word = sentense[position_of_word]\n",
    "                context = sentense[i]\n",
    "                if (word in vocabulary and context in vocabulary) == True and i != position_of_word:\n",
    "                    corpus_matrix[vocabulary[word]][vocabulary[context]] += 1\n",
    "                \n",
    "    return corpus_matrix"
   ]
  },
  {
   "cell_type": "code",
   "execution_count": 6,
   "metadata": {},
   "outputs": [],
   "source": [
    "D = create_corpus_matrix(sentences, vocabulary)\n"
   ]
  },
  {
   "cell_type": "code",
   "execution_count": 7,
   "metadata": {},
   "outputs": [],
   "source": [
    "def ppmi(D, k=5): #k тоже, как в дз. Они в статье тоже 5 выбирали\n",
    "    M = np.zeros(D.shape)\n",
    "    n = np.sum(D)\n",
    "    w = np.sum(D, axis = 0)\n",
    "    c = np.sum(D, axis = 1)\n",
    "    for i in range(len(D)):\n",
    "        for j in range(len(D[i])):\n",
    "            if n * D[i][j]/(w[i] * c[j] * k) == 0:\n",
    "                M[i][j] = 0\n",
    "            else:\n",
    "                M[i][j] = max(0, np.log(n * D[i][j]/(w[i] * c[j] * k)))\n",
    "    return M"
   ]
  },
  {
   "cell_type": "code",
   "execution_count": 9,
   "metadata": {},
   "outputs": [
    {
     "name": "stderr",
     "output_type": "stream",
     "text": [
      "/home/rumata/anaconda3/lib/python3.7/site-packages/ipykernel_launcher.py:8: RuntimeWarning: invalid value encountered in double_scalars\n",
      "  \n",
      "/home/rumata/anaconda3/lib/python3.7/site-packages/ipykernel_launcher.py:11: RuntimeWarning: invalid value encountered in double_scalars\n",
      "  # This is added back by InteractiveShellApp.init_path()\n"
     ]
    },
    {
     "name": "stdout",
     "output_type": "stream",
     "text": [
      "1min 32s ± 0 ns per loop (mean ± std. dev. of 1 run, 1 loop each)\n"
     ]
    }
   ],
   "source": [
    "#%%timeit -r 1 1 \n",
    "M = ppmi(D)"
   ]
  },
  {
   "cell_type": "code",
   "execution_count": 10,
   "metadata": {},
   "outputs": [],
   "source": [
    "#Не использовал, так у меня фэйлил комп, пришлось делать через sparse\n",
    "def truncated_svd(M, d=200):\n",
    "    u, s, v = np.linalg.svd(M)\n",
    "    u_d = u[:, :d]\n",
    "    s_d = s[:d]\n",
    "    v_d = v[:d, :]\n",
    "    M_ppmi = (u_d.dot(np.diag(s_d))).dot(v_d)\n",
    "    return M_ppmi\n",
    "\n",
    "def embedding_matrix(M, d=200):\n",
    "    u, s, v = np.linalg.svd(M)\n",
    "    W_svd = u[:, :d]\n",
    "    return W_svd"
   ]
  },
  {
   "cell_type": "code",
   "execution_count": 17,
   "metadata": {},
   "outputs": [],
   "source": [
    "#кусок со sparse\n",
    "M_sparse = scipy.sparse.csr_matrix(M)"
   ]
  },
  {
   "cell_type": "code",
   "execution_count": 30,
   "metadata": {},
   "outputs": [],
   "source": [
    "def truncated_svd_1(M, d=200):\n",
    "    u, s, v = svds(M, k=200)\n",
    "    u_d = u[:, :d]\n",
    "    s_d = s[:d]\n",
    "    v_d = v[:d, :]\n",
    "    M_ppmi = (u_d.dot(np.diag(s_d))).dot(v_d)\n",
    "    return M_ppmi"
   ]
  },
  {
   "cell_type": "code",
   "execution_count": 31,
   "metadata": {},
   "outputs": [
    {
     "name": "stdout",
     "output_type": "stream",
     "text": [
      "(7694, 200) (200,)\n",
      "8888888\n",
      "(7694, 200)\n",
      "(7694, 7694)\n"
     ]
    }
   ],
   "source": [
    "truncM = truncated_svd_1(M_sparse)"
   ]
  },
  {
   "cell_type": "code",
   "execution_count": 23,
   "metadata": {},
   "outputs": [],
   "source": [
    "#%%timeit -r 1 1 \n",
    "def embedding_matrix_1(M, d=200):\n",
    "    u, s, v = svds(M, k = d)\n",
    "    W_svd = u[:, :d]\n",
    "    return W_svd\n",
    "\n",
    "cutM = embedding_matrix_1(truncM)"
   ]
  },
  {
   "cell_type": "code",
   "execution_count": null,
   "metadata": {},
   "outputs": [],
   "source": [
    "#не запускал\n",
    "#import sklearn\n",
    "#from sklearn.decomposition import TruncatedSVD\n",
    "#svd = TruncatedSVD(n_components=200, algorithm=’randomized’, n_iter=2)\n",
    "#svd.fit(M)"
   ]
  },
  {
   "cell_type": "markdown",
   "metadata": {},
   "source": [
    "## Word2vec"
   ]
  },
  {
   "cell_type": "code",
   "execution_count": 53,
   "metadata": {},
   "outputs": [],
   "source": [
    "import gensim"
   ]
  },
  {
   "cell_type": "code",
   "execution_count": 69,
   "metadata": {},
   "outputs": [],
   "source": [
    "model = gensim.models.Word2Vec(sentences, min_count=200)"
   ]
  },
  {
   "cell_type": "code",
   "execution_count": 70,
   "metadata": {},
   "outputs": [
    {
     "data": {
      "text/plain": [
       "(7722, 100)"
      ]
     },
     "execution_count": 70,
     "metadata": {},
     "output_type": "execute_result"
    }
   ],
   "source": [
    "model.wv.vectors.shape"
   ]
  },
  {
   "cell_type": "code",
   "execution_count": null,
   "metadata": {},
   "outputs": [],
   "source": [
    "eig_val_w2v, eig_vec_w2v = np.linalg.eig()"
   ]
  },
  {
   "cell_type": "code",
   "execution_count": null,
   "metadata": {},
   "outputs": [],
   "source": []
  },
  {
   "cell_type": "code",
   "execution_count": null,
   "metadata": {},
   "outputs": [],
   "source": []
  },
  {
   "cell_type": "markdown",
   "metadata": {},
   "source": [
    "## Eigenvectors distibution"
   ]
  },
  {
   "cell_type": "code",
   "execution_count": null,
   "metadata": {},
   "outputs": [],
   "source": [
    "# SVD PPMI\n",
    "eig_val, eig_vec = np.linalg.eig(M)"
   ]
  },
  {
   "cell_type": "code",
   "execution_count": 46,
   "metadata": {
    "scrolled": true
   },
   "outputs": [
    {
     "data": {
      "image/png": "[encoded data removed]",
      "text/plain": [
       "<Figure size 1080x360 with 4 Axes>"
      ]
     },
     "metadata": {
      "needs_background": "light"
     },
     "output_type": "display_data"
    }
   ],
   "source": [
    "#eigenvectors listlist\n",
    "eig_list = [eig_vec[1], eig_vec[2], eig_vec[100], eig_vec[200]]\n",
    "eig_list_names = ['u1', 'u2', 'u100', 'u500']\n",
    "plt.figure(figsize=(15,5))\n",
    "\n",
    "for i, eig in enumerate(eig_list):\n",
    "    a = eig \n",
    "    mu = np.mean(a)\n",
    "    sigma = np.std(a)\n",
    "    \n",
    "    plt.subplot(1, 4, i+1)\n",
    "    count, bins, ignored = plt.hist(a, 40, density = True)\n",
    "    plt.plot(bins, 1/(sigma*(np.sqrt(2 * np.pi))) * np.exp(- (bins-mu)**2 /(2*sigma**2) ), linewidth=2, color='r')\n",
    "    plt.xlabel('%s'% eig_list_names[i], fontsize=12)\n",
    "    \n",
    "#plt.title('Eigenvectors distribution')    \n",
    "plt.show()\n"
   ]
  },
  {
   "cell_type": "markdown",
   "metadata": {},
   "source": [
    "\n",
    "## Inverse Participation Ratio (IPR)"
   ]
  },
  {
   "cell_type": "code",
   "execution_count": 52,
   "metadata": {
    "scrolled": true
   },
   "outputs": [],
   "source": [
    "IPR = [sum(eig**4) for eig in eig_vec]"
   ]
  },
  {
   "cell_type": "code",
   "execution_count": 51,
   "metadata": {},
   "outputs": [
    {
     "data": {
      "text/plain": [
       "0.0028328611898017"
      ]
     },
     "execution_count": 51,
     "metadata": {},
     "output_type": "execute_result"
    }
   ],
   "source": []
  },
  {
   "cell_type": "code",
   "execution_count": null,
   "metadata": {},
   "outputs": [],
   "source": []
  }
 ],
 "metadata": {
  "kernelspec": {
   "display_name": "Python 3",
   "language": "python",
   "name": "python3"
  },
  "language_info": {
   "codemirror_mode": {
    "name": "ipython",
    "version": 3
   },
   "file_extension": ".py",
   "mimetype": "text/x-python",
   "name": "python",
   "nbconvert_exporter": "python",
   "pygments_lexer": "ipython3",
   "version": "3.7.0"
  }
 },
 "nbformat": 4,
 "nbformat_minor": 2
}
